{
 "cells": [
  {
   "cell_type": "markdown",
   "metadata": {},
   "source": [
    "Hidden Markov Model prototype Using the Baum-Welch Algorithm to estimate Hidden Markov Model parameters.\n",
    "\n",
    "This notebook implements the verbatim example from the hidden_markov Python package."
   ]
  },
  {
   "cell_type": "code",
   "execution_count": 1,
   "metadata": {},
   "outputs": [],
   "source": [
    "import numpy as np\n",
    "from hidden_markov import hmm"
   ]
  },
  {
   "cell_type": "markdown",
   "metadata": {},
   "source": [
    "Initialize states, estimates for hidden state probabilities, transition probabilities, emission probabilitys (probabilities of observables given state)."
   ]
  },
  {
   "cell_type": "code",
   "execution_count": 2,
   "metadata": {},
   "outputs": [],
   "source": [
    "hidden_states = ('s', 't')\n",
    "observable_states = ('A', 'B', 'C')\n",
    "\n",
    "# other model parameters\n",
    "# probabilities for the initial state\n",
    "initial_state_prob = np.matrix('0.5, 0.5')\n",
    "\n",
    "# hidden state transition probabilities\n",
    "transition_prob_matrix = np.matrix('0.6 0.4; 0.3 0.7')\n",
    "\n",
    "# emission probabilities assoc. with the observables\n",
    "emission_prob_matrix = np.matrix('0.3, 0.6, 0.1; 0.4, 0.5, 0.1')"
   ]
  },
  {
   "cell_type": "markdown",
   "metadata": {},
   "source": [
    "Create the HMM object"
   ]
  },
  {
   "cell_type": "code",
   "execution_count": 3,
   "metadata": {},
   "outputs": [],
   "source": [
    "learn_model = hmm(hidden_states, observable_states, initial_state_prob, transition_prob_matrix, emission_prob_matrix)"
   ]
  },
  {
   "cell_type": "markdown",
   "metadata": {},
   "source": [
    "Create a series of observations to train the model on"
   ]
  },
  {
   "cell_type": "code",
   "execution_count": 4,
   "metadata": {},
   "outputs": [],
   "source": [
    "# generate some observations to fit/train the model\n",
    "obs1 = ('A', 'B', 'B', 'A', 'C')\n",
    "obs2 = ('B', 'A', 'B', 'C')\n",
    "#obs3 = ('played game', 'test score < 85')\n",
    "#obs4 = ('took content 2', 'took content 1', 'test score >= 85')\n",
    "#obs5 = ('took content 1', 'took content 2', 'test score >= 85')\n",
    "\n",
    "# need observation counts observations as tuples \n",
    "observation_counts = [10, 20]\n",
    "observations_tuple = [obs1, obs2]"
   ]
  },
  {
   "cell_type": "markdown",
   "metadata": {},
   "source": [
    "Train/fit the model"
   ]
  },
  {
   "cell_type": "code",
   "execution_count": 5,
   "metadata": {},
   "outputs": [
    {
     "name": "stdout",
     "output_type": "stream",
     "text": [
      "NOTE:  Patched train_hmm().\n"
     ]
    }
   ],
   "source": [
    "emission, transition, start = learn_model.train_hmm(observations_tuple, 1000, observation_counts)"
   ]
  },
  {
   "cell_type": "code",
   "execution_count": 6,
   "metadata": {},
   "outputs": [
    {
     "name": "stdout",
     "output_type": "stream",
     "text": [
      "emission probs: \n",
      "[[0.28686024 0.50121916 0.21192059]\n",
      " [0.31089155 0.43814946 0.25095899]]\n",
      "\n",
      "transition matrix: \n",
      "[[0.58756791 0.41243209]\n",
      " [0.29844668 0.70155332]]\n",
      "\n",
      "start: \n",
      "[[0.50910984 0.49089016]]\n"
     ]
    }
   ],
   "source": [
    "print 'emission probs: \\n', emission\n",
    "print '\\ntransition matrix: \\n', transition\n",
    "print '\\nstart: \\n', start"
   ]
  },
  {
   "cell_type": "markdown",
   "metadata": {},
   "source": [
    "Test the model"
   ]
  },
  {
   "cell_type": "raw",
   "metadata": {},
   "source": [
    "Persist the model so we can use it elsewhere"
   ]
  }
 ],
 "metadata": {
  "kernelspec": {
   "display_name": "Python 2",
   "language": "python",
   "name": "python2"
  },
  "language_info": {
   "codemirror_mode": {
    "name": "ipython",
    "version": 2
   },
   "file_extension": ".py",
   "mimetype": "text/x-python",
   "name": "python",
   "nbconvert_exporter": "python",
   "pygments_lexer": "ipython2",
   "version": "2.7.15"
  }
 },
 "nbformat": 4,
 "nbformat_minor": 2
}
