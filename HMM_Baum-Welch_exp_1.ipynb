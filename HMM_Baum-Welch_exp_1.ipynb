{
 "cells": [
  {
   "cell_type": "markdown",
   "metadata": {},
   "source": [
    "Hidden Markov Model prototype\n",
    "Using the Baum-Welch Algorithm to estimate Hidden Markov Model parameters"
   ]
  },
  {
   "cell_type": "code",
   "execution_count": 1,
   "metadata": {},
   "outputs": [],
   "source": [
    "import numpy as np\n",
    "from hidden_markov import hmm"
   ]
  },
  {
   "cell_type": "markdown",
   "metadata": {},
   "source": [
    "Initialize states, estimates for hidden state probabilities, transition probabilities, emission probabilitys (probabilities of observables given state)."
   ]
  },
  {
   "cell_type": "code",
   "execution_count": 2,
   "metadata": {},
   "outputs": [],
   "source": [
    "hidden_states = ('not mastered', 'mastered')\n",
    "observable_states = ('took content 1', 'took content 2', 'played game', 'test score < 85', 'test score >= 85')\n",
    "\n",
    "# other model parameters\n",
    "# probabilities for the initial state\n",
    "initial_state_prob = np.matrix('0.9 0.1')\n",
    "\n",
    "# hidden state transition probabilities\n",
    "transition_prob_matrix = np.matrix('0.5 0.5; 0.15 0.85')\n",
    "\n",
    "# emission probabilities assoc. with the observables\n",
    "emission_prob_matrix = np.matrix('0.2, 0.1, 0.3, 0.3, 0.1; 0.05, 0.1, 0.1, 0.05, 0.7')"
   ]
  },
  {
   "cell_type": "code",
   "execution_count": null,
   "metadata": {},
   "outputs": [],
   "source": []
  },
  {
   "cell_type": "markdown",
   "metadata": {},
   "source": [
    "Create the HMM object"
   ]
  },
  {
   "cell_type": "code",
   "execution_count": 3,
   "metadata": {},
   "outputs": [],
   "source": [
    "learn_model = hmm(hidden_states, observable_states, initial_state_prob, transition_prob_matrix, emission_prob_matrix)"
   ]
  },
  {
   "cell_type": "markdown",
   "metadata": {},
   "source": [
    "Create a series of observations to train the model on"
   ]
  },
  {
   "cell_type": "code",
   "execution_count": 10,
   "metadata": {},
   "outputs": [],
   "source": [
    "# generate some observations to fit/train the model\n",
    "obs1 = ('took content 1', 'took content 2', 'played game', 'test score >= 85')\n",
    "obs2 = ('took content 1', 'played game', 'test score < 85')\n",
    "obs3 = ('played game', 'test score < 85')\n",
    "obs4 = ('took content 2', 'took content 1', 'test score >= 85')\n",
    "obs5 = ('took content 1', 'took content 2', 'test score >= 85')\n",
    "\n",
    "# need observation counts observations as tuples \n",
    "observation_counts = [10, 10, 10, 10, 10]\n",
    "observations_tuple = [obs1, obs2, obs3, obs4, obs5]"
   ]
  },
  {
   "cell_type": "markdown",
   "metadata": {},
   "source": [
    "Train/fit the model"
   ]
  },
  {
   "cell_type": "code",
   "execution_count": 11,
   "metadata": {},
   "outputs": [
    {
     "name": "stdout",
     "output_type": "stream",
     "text": [
      "NOTE:  Patched train_hmm().\n"
     ]
    }
   ],
   "source": [
    "emission, transition, start = learn_model.train_hmm(observations_tuple, 1000, observation_counts)"
   ]
  },
  {
   "cell_type": "code",
   "execution_count": 12,
   "metadata": {},
   "outputs": [
    {
     "name": "stdout",
     "output_type": "stream",
     "text": [
      "emission probs: \n",
      "[[4.99012254e-01 2.20785805e-01 2.74250139e-01 5.56896127e-03\n",
      "  3.82840587e-04]\n",
      " [3.23159390e-03 1.15074871e-01 1.47036624e-01 3.23370065e-01\n",
      "  4.11286846e-01]]\n",
      "\n",
      "transition matrix: \n",
      "[[3.04166450e-01 6.95833550e-01]\n",
      " [1.84131044e-04 9.99815869e-01]]\n",
      "\n",
      "start: \n",
      "[[9.99989565e-01 1.04349400e-05]]\n"
     ]
    }
   ],
   "source": [
    "print 'emission probs: \\n', emission\n",
    "print '\\ntransition matrix: \\n', transition\n",
    "print '\\nstart: \\n', start"
   ]
  },
  {
   "cell_type": "markdown",
   "metadata": {},
   "source": [
    "Instatiate model with learned parameters"
   ]
  },
  {
   "cell_type": "code",
   "execution_count": 13,
   "metadata": {},
   "outputs": [],
   "source": [
    "trained_model = hmm(hidden_states, observable_states, start, transition, emission)"
   ]
  },
  {
   "cell_type": "raw",
   "metadata": {},
   "source": [
    "Run various observation sequences using the forward algorithm to get probability of occurrence"
   ]
  },
  {
   "cell_type": "code",
   "execution_count": 38,
   "metadata": {},
   "outputs": [
    {
     "name": "stdout",
     "output_type": "stream",
     "text": [
      "0.06217389814735868\n"
     ]
    }
   ],
   "source": [
    "obs = ('played game', 'test score < 85')\n",
    "prob = trained_model.forward_algo(obs)\n",
    "print prob"
   ]
  },
  {
   "cell_type": "code",
   "execution_count": 18,
   "metadata": {},
   "outputs": [
    {
     "data": {
      "text/plain": [
       "'t'"
      ]
     },
     "execution_count": 18,
     "metadata": {},
     "output_type": "execute_result"
    }
   ],
   "source": [
    "obs[0]"
   ]
  }
 ],
 "metadata": {
  "kernelspec": {
   "display_name": "Python 2",
   "language": "python",
   "name": "python2"
  },
  "language_info": {
   "codemirror_mode": {
    "name": "ipython",
    "version": 2
   },
   "file_extension": ".py",
   "mimetype": "text/x-python",
   "name": "python",
   "nbconvert_exporter": "python",
   "pygments_lexer": "ipython2",
   "version": "2.7.15"
  }
 },
 "nbformat": 4,
 "nbformat_minor": 2
}
