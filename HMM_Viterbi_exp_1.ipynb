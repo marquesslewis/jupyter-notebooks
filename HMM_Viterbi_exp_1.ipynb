{
 "cells": [
  {
   "cell_type": "markdown",
   "metadata": {},
   "source": [
    "Hidden Markov Model experiment 1\n",
    "\n",
    "Use the Viterbi Algorithm to estimate the state of mastery given a sequence of content and test interactions"
   ]
  },
  {
   "cell_type": "code",
   "execution_count": 3,
   "metadata": {},
   "outputs": [],
   "source": [
    "import numpy as np"
   ]
  },
  {
   "cell_type": "code",
   "execution_count": 4,
   "metadata": {},
   "outputs": [
    {
     "name": "stderr",
     "output_type": "stream",
     "text": [
      "c:\\python27\\lib\\site-packages\\pandas\\_libs\\__init__.py:4: RuntimeWarning: numpy.dtype size changed, may indicate binary incompatibility. Expected zd, got zd\n",
      "  from .tslib import iNaT, NaT, Timestamp, Timedelta, OutOfBoundsDatetime\n",
      "c:\\python27\\lib\\site-packages\\pandas\\__init__.py:26: RuntimeWarning: numpy.dtype size changed, may indicate binary incompatibility. Expected zd, got zd\n",
      "  from pandas._libs import (hashtable as _hashtable,\n",
      "c:\\python27\\lib\\site-packages\\pandas\\core\\dtypes\\common.py:6: RuntimeWarning: numpy.dtype size changed, may indicate binary incompatibility. Expected zd, got zd\n",
      "  from pandas._libs import algos, lib\n",
      "c:\\python27\\lib\\site-packages\\pandas\\core\\util\\hashing.py:7: RuntimeWarning: numpy.dtype size changed, may indicate binary incompatibility. Expected zd, got zd\n",
      "  from pandas._libs import hashing, tslib\n",
      "c:\\python27\\lib\\site-packages\\pandas\\core\\indexes\\base.py:7: RuntimeWarning: numpy.dtype size changed, may indicate binary incompatibility. Expected zd, got zd\n",
      "  from pandas._libs import (lib, index as libindex, tslib as libts,\n",
      "c:\\python27\\lib\\site-packages\\pandas\\tseries\\offsets.py:21: RuntimeWarning: numpy.dtype size changed, may indicate binary incompatibility. Expected zd, got zd\n",
      "  import pandas._libs.tslibs.offsets as liboffsets\n",
      "c:\\python27\\lib\\site-packages\\pandas\\core\\ops.py:16: RuntimeWarning: numpy.dtype size changed, may indicate binary incompatibility. Expected zd, got zd\n",
      "  from pandas._libs import algos as libalgos, ops as libops\n",
      "c:\\python27\\lib\\site-packages\\pandas\\core\\indexes\\interval.py:32: RuntimeWarning: numpy.dtype size changed, may indicate binary incompatibility. Expected zd, got zd\n",
      "  from pandas._libs.interval import (\n",
      "c:\\python27\\lib\\site-packages\\pandas\\core\\internals.py:14: RuntimeWarning: numpy.dtype size changed, may indicate binary incompatibility. Expected zd, got zd\n",
      "  from pandas._libs import internals as libinternals\n",
      "c:\\python27\\lib\\site-packages\\pandas\\core\\sparse\\array.py:33: RuntimeWarning: numpy.dtype size changed, may indicate binary incompatibility. Expected zd, got zd\n",
      "  import pandas._libs.sparse as splib\n",
      "c:\\python27\\lib\\site-packages\\pandas\\core\\window.py:36: RuntimeWarning: numpy.dtype size changed, may indicate binary incompatibility. Expected zd, got zd\n",
      "  import pandas._libs.window as _window\n",
      "c:\\python27\\lib\\site-packages\\pandas\\core\\groupby\\groupby.py:68: RuntimeWarning: numpy.dtype size changed, may indicate binary incompatibility. Expected zd, got zd\n",
      "  from pandas._libs import (lib, reduction,\n",
      "c:\\python27\\lib\\site-packages\\pandas\\core\\reshape\\reshape.py:30: RuntimeWarning: numpy.dtype size changed, may indicate binary incompatibility. Expected zd, got zd\n",
      "  from pandas._libs import algos as _algos, reshape as _reshape\n",
      "c:\\python27\\lib\\site-packages\\pandas\\io\\parsers.py:45: RuntimeWarning: numpy.dtype size changed, may indicate binary incompatibility. Expected zd, got zd\n",
      "  import pandas._libs.parsers as parsers\n",
      "c:\\python27\\lib\\site-packages\\pandas\\io\\pytables.py:50: RuntimeWarning: numpy.dtype size changed, may indicate binary incompatibility. Expected zd, got zd\n",
      "  from pandas._libs import algos, lib, writers as libwriters\n"
     ]
    }
   ],
   "source": [
    "import pandas as pd"
   ]
  },
  {
   "cell_type": "code",
   "execution_count": 3,
   "metadata": {},
   "outputs": [],
   "source": [
    "import networkx as nx"
   ]
  },
  {
   "cell_type": "markdown",
   "metadata": {},
   "source": [
    "First step:  Create the state space and the initial probabilities"
   ]
  },
  {
   "cell_type": "code",
   "execution_count": 5,
   "metadata": {},
   "outputs": [],
   "source": [
    "hidden_states = ['not mastered', 'mastered']\n",
    "initial_state_prob = [0.9, 0.1]"
   ]
  },
  {
   "cell_type": "code",
   "execution_count": 6,
   "metadata": {},
   "outputs": [
    {
     "name": "stdout",
     "output_type": "stream",
     "text": [
      "not mastered    0.9\n",
      "mastered        0.1\n",
      "Name: states, dtype: float64\n",
      "Check - should sum to 1.0:  1.0\n"
     ]
    }
   ],
   "source": [
    "state_space = pd.Series(initial_state_prob, index=hidden_states, name='states')\n",
    "print state_space\n",
    "print \"Check - should sum to 1.0: \", state_space.sum()"
   ]
  },
  {
   "cell_type": "markdown",
   "metadata": {},
   "source": [
    "Create initial hidden state transition matric, MxM where M is number of hidden states"
   ]
  },
  {
   "cell_type": "code",
   "execution_count": 7,
   "metadata": {},
   "outputs": [
    {
     "name": "stdout",
     "output_type": "stream",
     "text": [
      "             not mastered mastered\n",
      "not mastered          0.5      0.5\n",
      "mastered             0.15     0.85\n",
      "[[0.5 0.5]\n",
      " [0.15 0.85]] (2, 2)\n",
      "not mastered    1.0\n",
      "mastered        1.0\n",
      "dtype: float64\n"
     ]
    }
   ],
   "source": [
    "transmatrix_df = pd.DataFrame(columns=hidden_states, index=hidden_states)\n",
    "transmatrix_df.loc[hidden_states[0]] = [0.5, 0.5]\n",
    "transmatrix_df.loc[hidden_states[1]] = [0.15, 0.85]\n",
    "print transmatrix_df\n",
    "a = transmatrix_df.values\n",
    "print a, a.shape\n",
    "print(transmatrix_df.sum(axis=1))"
   ]
  },
  {
   "cell_type": "markdown",
   "metadata": {},
   "source": [
    "Set up the observable states and transition probabilities\n",
    "observation probability matrix is MxO where M is number of states, O is number of observations"
   ]
  },
  {
   "cell_type": "code",
   "execution_count": 8,
   "metadata": {},
   "outputs": [],
   "source": [
    "observable_states = ['took content 1', 'took content 2', 'played game', 'test score < 85', 'test score >= 85']"
   ]
  },
  {
   "cell_type": "code",
   "execution_count": 9,
   "metadata": {},
   "outputs": [
    {
     "name": "stdout",
     "output_type": "stream",
     "text": [
      "             took content 1 took content 2 played game test score < 85  \\\n",
      "not mastered            0.2            0.1         0.3             0.3   \n",
      "mastered               0.05            0.1         0.1            0.05   \n",
      "\n",
      "             test score >= 85  \n",
      "not mastered              0.1  \n",
      "mastered                  0.7  \n",
      "[[0.2 0.1 0.3 0.3 0.1]\n",
      " [0.05 0.1 0.1 0.05 0.7]] (2, 5)\n",
      "not mastered    1.0\n",
      "mastered        1.0\n",
      "dtype: float64\n"
     ]
    }
   ],
   "source": [
    "obsprobmatrix_df = pd.DataFrame(columns=observable_states, index=hidden_states)\n",
    "obsprobmatrix_df.loc[hidden_states[0]] = [0.2, 0.1, 0.3, 0.3, 0.1]\n",
    "obsprobmatrix_df.loc[hidden_states[1]] = [0.05, 0.1, 0.1, 0.05, 0.7]\n",
    "\n",
    "print obsprobmatrix_df\n",
    "\n",
    "b = obsprobmatrix_df.values\n",
    "print b, b.shape\n",
    "\n",
    "print(obsprobmatrix_df.sum(axis=1))"
   ]
  },
  {
   "cell_type": "markdown",
   "metadata": {},
   "source": [
    "Run an observed sequence of states through the viterbi alg to see most likely hidden state path\n",
    "played game, failed test, content 1, failed test, content 2, played game, passed test"
   ]
  },
  {
   "cell_type": "code",
   "execution_count": 14,
   "metadata": {},
   "outputs": [
    {
     "name": "stdout",
     "output_type": "stream",
     "text": [
      "  Obs Code           Obs Seq\n",
      "0        2       played game\n",
      "1        3   test score < 85\n",
      "2        0    took content 1\n",
      "3        3   test score < 85\n",
      "4        1    took content 2\n",
      "5        2       played game\n",
      "6        4  test score >= 85\n"
     ]
    }
   ],
   "source": [
    "observations_map = {'took content 1':0, 'took content 2':1, 'played game':2, 'test score < 85':3, 'test score >= 85':4}\n",
    "observations = np.array([2, 3, 0, 3, 1, 2, 4])\n",
    "\n",
    "inv_observations_map = dict((v,k) for k, v in observations_map.items())\n",
    "observation_sequence = [inv_observations_map[v] for v in list(observations)]\n",
    "\n",
    "print pd.DataFrame(np.column_stack([observations, observation_sequence]), columns=['Obs Code', 'Obs Seq'])\n"
   ]
  },
  {
   "cell_type": "markdown",
   "metadata": {},
   "source": [
    "Define the Viterbi alg. for state path evaluation.  See http://www.blackarbs.com/blog/introduction-hidden-markov-models-python-networkx-sklearn/2/9/2017 and assoc reference.\n"
   ]
  },
  {
   "cell_type": "code",
   "execution_count": 13,
   "metadata": {},
   "outputs": [],
   "source": [
    "def viterbi(pi, a, b, obs):\n",
    "    \n",
    "    nStates = np.shape(b)[0]\n",
    "    T = np.shape(obs)[0]\n",
    "    \n",
    "    # init blank path\n",
    "    path = np.zeros(T)\n",
    "    # delta --> highest probability of any path that reaches state i\n",
    "    delta = np.zeros((nStates, T))\n",
    "    # phi --> argmax by time step for each state\n",
    "    phi = np.zeros((nStates, T))\n",
    "    \n",
    "    # init delta and phi \n",
    "    delta[:, 0] = pi * b[:, obs[0]]\n",
    "    phi[:, 0] = 0\n",
    "\n",
    "    print('\\nStart Walk Forward\\n')    \n",
    "    # the forward algorithm extension\n",
    "    for t in range(1, T):\n",
    "        for s in range(nStates):\n",
    "            delta[s, t] = np.max(delta[:, t-1] * a[:, s]) * b[s, obs[t]] \n",
    "            phi[s, t] = np.argmax(delta[:, t-1] * a[:, s])\n",
    "            print('s={s} and t={t}: phi[{s}, {t}] = {phi}'.format(s=s, t=t, phi=phi[s, t]))\n",
    "    \n",
    "    # find optimal path\n",
    "    print('-'*50)\n",
    "    print('Start Backtrace\\n')\n",
    "    #print \"phi: \", phi\n",
    "    path[T-1] = np.argmax(delta[:, T-1])\n",
    "    #p('init path\\n    t={} path[{}-1]={}\\n'.format(T-1, T, path[T-1]))\n",
    "    for t in range(T-2, -1, -1):\n",
    "        #debugging index error in extracting path\n",
    "        #print \"t and t+1: \", t, t+1\n",
    "        phi_row = int(path[t+1])\n",
    "        phi_col = t+1\n",
    "        #print \"phi indices: \", phi_row, phi_col\n",
    "        #print \"phi @ indices: \", phi[0, 6]\n",
    "        \n",
    "        path[t] = phi[phi_row, phi_col]\n",
    "        #p(' '*4 + 't={t}, path[{t}+1]={path}, [{t}+1]={i}'.format(t=t, path=path[t+1], i=[t+1]))\n",
    "        print('path[{}] = {}'.format(t, path[t]))\n",
    "        \n",
    "    return path, delta, phi\n"
   ]
  },
  {
   "cell_type": "markdown",
   "metadata": {},
   "source": [
    "Run Vitiberi alg. on the observed sequence"
   ]
  },
  {
   "cell_type": "code",
   "execution_count": 68,
   "metadata": {},
   "outputs": [
    {
     "name": "stdout",
     "output_type": "stream",
     "text": [
      "\n",
      "Start Walk Forward\n",
      "\n",
      "s=0 and t=1: phi[0, 1] = 0.0\n",
      "s=1 and t=1: phi[1, 1] = 0.0\n",
      "s=0 and t=2: phi[0, 2] = 0.0\n",
      "s=1 and t=2: phi[1, 2] = 0.0\n",
      "s=0 and t=3: phi[0, 3] = 0.0\n",
      "s=1 and t=3: phi[1, 3] = 0.0\n",
      "s=0 and t=4: phi[0, 4] = 0.0\n",
      "s=1 and t=4: phi[1, 4] = 0.0\n",
      "s=0 and t=5: phi[0, 5] = 0.0\n",
      "s=1 and t=5: phi[1, 5] = 1.0\n",
      "s=0 and t=6: phi[0, 6] = 0.0\n",
      "s=1 and t=6: phi[1, 6] = 0.0\n",
      "--------------------------------------------------\n",
      "Start Backtrace\n",
      "\n",
      "phi:  [[0. 0. 0. 0. 0. 0. 0.]\n",
      " [0. 0. 0. 0. 0. 1. 0.]]\n",
      "path[5] = 0.0\n",
      "path[4] = 0.0\n",
      "path[3] = 0.0\n",
      "path[2] = 0.0\n",
      "path[1] = 0.0\n",
      "path[0] = 0.0\n"
     ]
    }
   ],
   "source": [
    "path, delta, phi = viterbi(initial_state_prob, a, b, observations)"
   ]
  },
  {
   "cell_type": "code",
   "execution_count": 70,
   "metadata": {},
   "outputs": [
    {
     "name": "stdout",
     "output_type": "stream",
     "text": [
      "most likely state path:  [0. 0. 0. 0. 0. 0. 1.]\n",
      "delta:  [[2.7000000e-01 4.0500000e-02 4.0500000e-03 6.0750000e-04 3.0375000e-05\n",
      "  4.5562500e-06 2.2781250e-07]\n",
      " [1.0000000e-02 6.7500000e-03 1.0125000e-03 1.0125000e-04 3.0375000e-05\n",
      "  2.5818750e-06 1.5946875e-06]]\n",
      "phi [[0. 0. 0. 0. 0. 0. 0.]\n",
      " [0. 0. 0. 0. 0. 1. 0.]]\n"
     ]
    }
   ],
   "source": [
    "print \"most likely state path: \", path\n",
    "print \"delta: \", delta\n",
    "print \"phi\", phi"
   ]
  },
  {
   "cell_type": "code",
   "execution_count": 76,
   "metadata": {},
   "outputs": [],
   "source": [
    "def print_state_path(state_map, path):\n",
    "    state_path = [state_map[v] for v in path]\n",
    "    results_df = pd.DataFrame().assign(Observation=observation_sequence).assign(Likely_Path=state_path)\n",
    "    print results_df"
   ]
  },
  {
   "cell_type": "code",
   "execution_count": 79,
   "metadata": {},
   "outputs": [
    {
     "name": "stdout",
     "output_type": "stream",
     "text": [
      "        Observation   Likely_Path\n",
      "0       played game  Not mastered\n",
      "1   test score < 85  Not mastered\n",
      "2    took content 1  Not mastered\n",
      "3   test score < 85  Not mastered\n",
      "4    took content 2  Not mastered\n",
      "5       played game  Not mastered\n",
      "6  test score >= 85      Mastered\n"
     ]
    }
   ],
   "source": [
    "state_map = {0:'Not mastered', 1:'Mastered'}\n",
    "\n",
    "print_state_path(state_map, path)"
   ]
  },
  {
   "cell_type": "markdown",
   "metadata": {},
   "source": [
    "Run another set of observations"
   ]
  },
  {
   "cell_type": "code",
   "execution_count": 81,
   "metadata": {},
   "outputs": [
    {
     "name": "stdout",
     "output_type": "stream",
     "text": [
      "  Obs Code           Obs Seq\n",
      "0        0    took content 1\n",
      "1        1    took content 2\n",
      "2        2       played game\n",
      "3        4  test score >= 85\n",
      "4        2       played game\n"
     ]
    }
   ],
   "source": [
    "observations_map = {'took content 1':0, 'took content 2':1, 'played game':2, 'test score < 85':3, 'test score >= 85':4}\n",
    "observations = np.array([0, 1, 2, 4, 2])\n",
    "\n",
    "inv_observations_map = dict((v,k) for k, v in observations_map.items())\n",
    "observation_sequence = [inv_observations_map[v] for v in list(observations)]\n",
    "\n",
    "print pd.DataFrame(np.column_stack([observations, observation_sequence]), columns=['Obs Code', 'Obs Seq'])"
   ]
  },
  {
   "cell_type": "code",
   "execution_count": 82,
   "metadata": {},
   "outputs": [
    {
     "name": "stdout",
     "output_type": "stream",
     "text": [
      "\n",
      "Start Walk Forward\n",
      "\n",
      "s=0 and t=1: phi[0, 1] = 0.0\n",
      "s=1 and t=1: phi[1, 1] = 0.0\n",
      "s=0 and t=2: phi[0, 2] = 0.0\n",
      "s=1 and t=2: phi[1, 2] = 1.0\n",
      "s=0 and t=3: phi[0, 3] = 0.0\n",
      "s=1 and t=3: phi[1, 3] = 0.0\n",
      "s=0 and t=4: phi[0, 4] = 1.0\n",
      "s=1 and t=4: phi[1, 4] = 1.0\n",
      "--------------------------------------------------\n",
      "Start Backtrace\n",
      "\n",
      "phi:  [[0. 0. 0. 0. 1.]\n",
      " [0. 0. 1. 0. 1.]]\n",
      "path[3] = 1.0\n",
      "path[2] = 0.0\n",
      "path[1] = 0.0\n",
      "path[0] = 0.0\n"
     ]
    }
   ],
   "source": [
    "path, delta, phi = viterbi(initial_state_prob, a, b, observations)"
   ]
  },
  {
   "cell_type": "code",
   "execution_count": 83,
   "metadata": {},
   "outputs": [
    {
     "name": "stdout",
     "output_type": "stream",
     "text": [
      "most likely state path:  [0. 0. 0. 1. 1.]\n",
      "delta:  [[1.80000e-01 9.00000e-03 1.35000e-03 6.75000e-05 2.12625e-05]\n",
      " [5.00000e-03 9.00000e-03 7.65000e-04 4.72500e-04 4.01625e-05]]\n",
      "phi [[0. 0. 0. 0. 1.]\n",
      " [0. 0. 1. 0. 1.]]\n"
     ]
    }
   ],
   "source": [
    "print \"most likely state path: \", path\n",
    "print \"delta: \", delta\n",
    "print \"phi\", phi"
   ]
  },
  {
   "cell_type": "code",
   "execution_count": 84,
   "metadata": {},
   "outputs": [
    {
     "name": "stdout",
     "output_type": "stream",
     "text": [
      "        Observation   Likely_Path\n",
      "0    took content 1  Not mastered\n",
      "1    took content 2  Not mastered\n",
      "2       played game  Not mastered\n",
      "3  test score >= 85      Mastered\n",
      "4       played game      Mastered\n"
     ]
    }
   ],
   "source": [
    "print_state_path(state_map, path)"
   ]
  }
 ],
 "metadata": {
  "kernelspec": {
   "display_name": "Python 2",
   "language": "python",
   "name": "python2"
  },
  "language_info": {
   "codemirror_mode": {
    "name": "ipython",
    "version": 2
   },
   "file_extension": ".py",
   "mimetype": "text/x-python",
   "name": "python",
   "nbconvert_exporter": "python",
   "pygments_lexer": "ipython2",
   "version": "2.7.15"
  }
 },
 "nbformat": 4,
 "nbformat_minor": 2
}
