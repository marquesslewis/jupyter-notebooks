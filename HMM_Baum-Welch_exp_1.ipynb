{
 "cells": [
  {
   "cell_type": "markdown",
   "metadata": {},
   "source": [
    "# Hidden Markov Model prototype \n",
    "\n",
    "Uses the Baum-Welch Algorithm to estimate Hidden Markov Model parameters.\n",
    "Two hidden states are constructed, 5 observable states are used, along with initial transition and emissions probabilities \n",
    "to create the HMM model.  Then, a series of observed states are used to develop estimates for the initial probabilities, transition probabilities, and emission probabilities.\n",
    "\n",
    "Numpy is required\n",
    "\n",
    "Note that you will need to the code at https://github.com/rahul13ramesh/hidden_markov with the pull request submitted by  4caead3"
   ]
  },
  {
   "cell_type": "code",
   "execution_count": 1,
   "metadata": {},
   "outputs": [],
   "source": [
    "import numpy as np\n",
    "from hidden_markov import hmm"
   ]
  },
  {
   "cell_type": "markdown",
   "metadata": {},
   "source": [
    "Initialize states, estimates for hidden state probabilities, transition probabilities, emission probabilitys (probabilities of observables given state)."
   ]
  },
  {
   "cell_type": "code",
   "execution_count": 2,
   "metadata": {},
   "outputs": [],
   "source": [
    "hidden_states = ('not mastered', 'mastered')\n",
    "observable_states = ('took content 1', 'took content 2', 'played game', 'test score < 85', 'test score >= 85')\n",
    "\n",
    "# other model parameters\n",
    "# probabilities for the initial state\n",
    "initial_state_prob = np.matrix('0.9 0.1')\n",
    "\n",
    "# hidden state transition probabilities\n",
    "transition_prob_matrix = np.matrix('0.5 0.5; 0.15 0.85')\n",
    "\n",
    "# emission probabilities assoc. with the observables\n",
    "emission_prob_matrix = np.matrix('0.2, 0.1, 0.3, 0.3, 0.1; 0.05, 0.1, 0.1, 0.05, 0.7')"
   ]
  },
  {
   "cell_type": "code",
   "execution_count": null,
   "metadata": {},
   "outputs": [],
   "source": []
  },
  {
   "cell_type": "markdown",
   "metadata": {},
   "source": [
    "Create the HMM object"
   ]
  },
  {
   "cell_type": "code",
   "execution_count": 4,
   "metadata": {},
   "outputs": [],
   "source": [
    "learn_model = hmm(hidden_states, observable_states, initial_state_prob, transition_prob_matrix, emission_prob_matrix)"
   ]
  },
  {
   "cell_type": "markdown",
   "metadata": {},
   "source": [
    "Create a series of observations to train the model on"
   ]
  },
  {
   "cell_type": "code",
   "execution_count": 5,
   "metadata": {},
   "outputs": [],
   "source": [
    "# generate some observations to fit/train the model\n",
    "obs1 = ('took content 1', 'took content 2', 'played game', 'test score >= 85')\n",
    "obs2 = ('took content 1', 'played game', 'test score < 85')\n",
    "obs3 = ('played game', 'test score < 85')\n",
    "obs4 = ('took content 2', 'took content 1', 'test score >= 85')\n",
    "obs5 = ('took content 1', 'took content 2', 'test score >= 85')\n",
    "\n",
    "# need observation counts observations as tuples \n",
    "observation_counts = [10, 10, 10, 10, 10]\n",
    "observations_tuple = [obs1, obs2, obs3, obs4, obs5]"
   ]
  },
  {
   "cell_type": "markdown",
   "metadata": {},
   "source": [
    "Train/fit the model"
   ]
  },
  {
   "cell_type": "code",
   "execution_count": 6,
   "metadata": {},
   "outputs": [
    {
     "name": "stdout",
     "output_type": "stream",
     "text": [
      "NOTE:  Patched train_hmm().\n"
     ]
    }
   ],
   "source": [
    "emission, transition, start = learn_model.train_hmm(observations_tuple, 1000, observation_counts)"
   ]
  },
  {
   "cell_type": "code",
   "execution_count": 7,
   "metadata": {},
   "outputs": [
    {
     "name": "stdout",
     "output_type": "stream",
     "text": [
      "emission probs: \n",
      "[[0.40210093 0.23647834 0.24241179 0.09601713 0.02299182]\n",
      " [0.0316926  0.09892588 0.14299276 0.31757846 0.40881031]]\n",
      "\n",
      "transition matrix: \n",
      "[[0.48461144 0.51538856]\n",
      " [0.09946943 0.90053057]]\n",
      "\n",
      "start: \n",
      "[[0.98874889 0.01125111]]\n"
     ]
    }
   ],
   "source": [
    "print 'emission probs: \\n', emission\n",
    "print '\\ntransition matrix: \\n', transition\n",
    "print '\\nstart: \\n', start"
   ]
  },
  {
   "cell_type": "markdown",
   "metadata": {},
   "source": [
    "Instatiate model with learned parameters"
   ]
  },
  {
   "cell_type": "code",
   "execution_count": 8,
   "metadata": {},
   "outputs": [],
   "source": [
    "trained_model = hmm(hidden_states, observable_states, start, transition, emission)"
   ]
  },
  {
   "cell_type": "markdown",
   "metadata": {},
   "source": [
    "Run various observation sequences using the forward algorithm to get probability of occurrence"
   ]
  },
  {
   "cell_type": "code",
   "execution_count": 9,
   "metadata": {},
   "outputs": [
    {
     "name": "stdout",
     "output_type": "stream",
     "text": [
      "0.05085888148572142\n"
     ]
    }
   ],
   "source": [
    "obs = ('played game', 'test score < 85')\n",
    "prob = trained_model.forward_algo(obs)\n",
    "print prob"
   ]
  },
  {
   "cell_type": "code",
   "execution_count": 10,
   "metadata": {},
   "outputs": [
    {
     "data": {
      "text/plain": [
       "'played game'"
      ]
     },
     "execution_count": 10,
     "metadata": {},
     "output_type": "execute_result"
    }
   ],
   "source": [
    "obs[0]"
   ]
  }
 ],
 "metadata": {
  "kernelspec": {
   "display_name": "Python 2",
   "language": "python",
   "name": "python2"
  },
  "language_info": {
   "codemirror_mode": {
    "name": "ipython",
    "version": 2
   },
   "file_extension": ".py",
   "mimetype": "text/x-python",
   "name": "python",
   "nbconvert_exporter": "python",
   "pygments_lexer": "ipython2",
   "version": "2.7.15"
  }
 },
 "nbformat": 4,
 "nbformat_minor": 2
}
